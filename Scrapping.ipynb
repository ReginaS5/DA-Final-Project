{
 "cells": [
  {
   "cell_type": "markdown",
   "id": "f7fbd5b5",
   "metadata": {},
   "source": [
    "# Web Scrapping "
   ]
  },
  {
   "cell_type": "code",
   "execution_count": 1,
   "id": "4ac7f180",
   "metadata": {},
   "outputs": [],
   "source": [
    "from bs4 import BeautifulSoup\n",
    "import requests\n",
    "import pandas as pd"
   ]
  },
  {
   "cell_type": "code",
   "execution_count": 2,
   "id": "56aaf771",
   "metadata": {},
   "outputs": [],
   "source": [
    "url = \"https://www.mayoclinic.org/diseases-conditions/hair-loss/symptoms-causes/syc-20372926#dialogId17030664\""
   ]
  },
  {
   "cell_type": "code",
   "execution_count": 3,
   "id": "c181e9b7",
   "metadata": {},
   "outputs": [
    {
     "data": {
      "text/plain": [
       "200"
      ]
     },
     "execution_count": 3,
     "metadata": {},
     "output_type": "execute_result"
    }
   ],
   "source": [
    "response = requests.get(url)\n",
    "response.status_code"
   ]
  },
  {
   "cell_type": "code",
   "execution_count": 4,
   "id": "cfbb2f42",
   "metadata": {},
   "outputs": [],
   "source": [
    "#print(soup.prettify())"
   ]
  },
  {
   "cell_type": "markdown",
   "id": "f7cd8074",
   "metadata": {},
   "source": [
    "#### Caption"
   ]
  },
  {
   "cell_type": "code",
   "execution_count": 5,
   "id": "62a07310",
   "metadata": {},
   "outputs": [
    {
     "name": "stdout",
     "output_type": "stream",
     "text": [
      "Hair loss can occur if you wear pigtails, braids or cornrows, or use tight hair rollers. This is called traction alopecia.\n"
     ]
    }
   ],
   "source": [
    "soup = BeautifulSoup(response.content, \"html.parser\")\n",
    "caption = soup.find_all('p', {'class': 'caption'})\n",
    "\n",
    "\n",
    "if len(caption) >= 4:\n",
    "    fourth_caption = caption[3].get_text()\n",
    "    print(fourth_caption)\n",
    "else:\n",
    "    print(\"Not enough captions found.\")"
   ]
  },
  {
   "cell_type": "markdown",
   "id": "e9c1ad09",
   "metadata": {},
   "source": [
    "#### Image"
   ]
  },
  {
   "cell_type": "code",
   "execution_count": 11,
   "id": "08c65c6a",
   "metadata": {},
   "outputs": [
    {
     "name": "stdout",
     "output_type": "stream",
     "text": [
      "/-/media/kcms/gbs/patient-consumer/images/2015/03/23/12/58/sn7_tractionalopecia-6col.jpg\n"
     ]
    }
   ],
   "source": [
    "images = soup.find_all('div', {'class': 'access-modal'})\n",
    "\n",
    "images = soup.find_all('div', class_='access-modal')\n",
    "\n",
    "img_tag = soup.find('img')\n",
    "if img_tag and 'src' in img_tag.attrs:\n",
    "    image_url = img_tag['src']\n",
    "    print(image_url)\n",
    "else:\n",
    "    print(\"Image URL not found.\")"
   ]
  }
 ],
 "metadata": {
  "kernelspec": {
   "display_name": "Python 3 (ipykernel)",
   "language": "python",
   "name": "python3"
  },
  "language_info": {
   "codemirror_mode": {
    "name": "ipython",
    "version": 3
   },
   "file_extension": ".py",
   "mimetype": "text/x-python",
   "name": "python",
   "nbconvert_exporter": "python",
   "pygments_lexer": "ipython3",
   "version": "3.11.4"
  }
 },
 "nbformat": 4,
 "nbformat_minor": 5
}
